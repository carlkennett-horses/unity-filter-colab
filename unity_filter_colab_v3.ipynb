{
  "nbformat": 4,
  "nbformat_minor": 5,
  "metadata": {
    "colab": {
      "provenance": []
    },
    "kernelspec": {
      "name": "python3",
      "display_name": "Python 3"
    },
    "language_info": {
      "name": "python",
      "version": "3.x"
    }
  },
  "cells": [
    {
      "cell_type": "markdown",
      "metadata": {},
      "source": "# \ud83c\udfc7 Unity Filter Colab v3 \u2014 ATR PDF \u2192 Top-2 per Race\n\n**What\u2019s new in v3**\n- Step 2: Friendlier upload function (\"\ud83d\udcc2 Please upload today\u2019s ATR racecard PDF...\").\n- Step 4: Improved regex race splitter (detects `(R1)`, `(R2)`, etc reliably).\n- Runs Unity Filter wrapper deterministically and prints Top-2 for all races.\n\n**Steps**\n1. Install dependencies\n2. Upload ATR PDF (file picker)\n3. Extract runner lines\n4. Split into races\n5. Convert to DataFrames\n6. Unity Filter wrapper\n7. Run all races \u2192 Top-2 grid"
    },
    {
      "cell_type": "code",
      "metadata": {
        "id": "setup"
      },
      "execution_count": null,
      "outputs": [],
      "source": "# === Step 1: Install dependencies ===\n!pip -q install pandas pdfplumber"
    },
    {
      "cell_type": "code",
      "metadata": {
        "id": "upload"
      },
      "execution_count": null,
      "outputs": [],
      "source": "# === Step 2: Upload ATR PDF (file picker) ===\nfrom google.colab import files\n\ndef pick_pdf():\n    print(\"\ud83d\udcc2 Please upload today\u2019s ATR racecard PDF...\")\n    uploaded = files.upload()\n    pdf_path = next(iter(uploaded.keys()))\n    print(\"\u2705 Uploaded:\", pdf_path)\n    return pdf_path\n\npdf_path = pick_pdf()"
    },
    {
      "cell_type": "code",
      "metadata": {
        "id": "extract"
      },
      "execution_count": null,
      "outputs": [],
      "source": "# === Step 3: Extract runner lines with pdfplumber ===\nimport pdfplumber\n\ndef extract_runner_lines(path):\n    rows = []\n    with pdfplumber.open(path) as pdf:\n        for page in pdf.pages:\n            text = page.extract_text().splitlines()\n            for line in text:\n                if line.strip() and line[0].isdigit():\n                    rows.append(line.strip())\n    return rows\n\nrows = extract_runner_lines(pdf_path)\nprint(\"Sample lines:\", rows[:10])"
    },
    {
      "cell_type": "code",
      "metadata": {
        "id": "split"
      },
      "execution_count": null,
      "outputs": [],
      "source": "# === Step 4: Split races by header markers ===\nimport re\n\ndef split_races(rows):\n    races, current = [], []\n    for line in rows:\n        if re.match(r\"^\\(R\\d+\\)\", line):  # detect headers like (R1), (R2)\n            if current:\n                races.append(current)\n                current = []\n            # skip the header itself\n        else:\n            current.append(line)\n    if current:\n        races.append(current)\n    return races\n\nraces = split_races(rows)\nprint(\"Found\", len(races), \"races\")\nfor i, r in enumerate(races, 1):\n    print(f\"Race {i}: {len(r)} runners\")"
    },
    {
      "cell_type": "code",
      "metadata": {
        "id": "parse"
      },
      "execution_count": null,
      "outputs": [],
      "source": "# === Step 5: Convert to DataFrame per race ===\nimport pandas as pd\nimport re\n\ndef parse_race(lines):\n    data = []\n    for line in lines:\n        parts = line.split()\n        if len(parts) < 2:\n            continue\n        try:\n            no = parts[0]\n            draw = parts[1] if parts[1].startswith(\"(\") else \"\"\n            form = \"\"\n            name_parts = []\n            i = 2 if draw else 1\n            # optional form string like \"321F\" etc.\n            if i < len(parts) and re.match(r\"[0-9FURP\\-]+\", parts[i]):\n                form = parts[i]\n                i += 1\n            # collect horse name until digits appear\n            while i < len(parts) and not parts[i].isdigit():\n                name_parts.append(parts[i])\n                i += 1\n            name = \" \".join(name_parts)\n            data.append({\"name\": name, \"form\": form, \"trainer\": \"?\", \"or_rating\": None})\n        except:\n            continue\n    return pd.DataFrame(data)\n\nrace_dfs = [parse_race(r) for r in races]\nprint(race_dfs[0].head() if race_dfs else \"No races parsed\")"
    },
    {
      "cell_type": "code",
      "metadata": {
        "id": "unity_filter"
      },
      "execution_count": null,
      "outputs": [],
      "source": "# === Step 6: Unity Filter Wrapper ===\nclass UnityFilter:\n    def __init__(self):\n        self.trainer_scores = {\n            \"aidan o'brien\": 4.0, \"a p o'brien\": 4.0,\n            \"joseph patrick o'brien\": 3.8, \"donnacha o'brien\": 3.5,\n            \"dermot weld\": 3.2, \"jessica harrington\": 2.8,\n            \"william haggas\": 3.5, \"john gosden\": 3.5,\n            \"j & t gosden\": 3.5, \"charlie appleby\": 3.2,\n            \"sir michael stoute\": 3.0,\n        }\n\n    def score_runner(self, row):\n        score = 0.0\n        for ch in str(row[\"form\"]):\n            if ch == \"1\": score += 3\n            elif ch == \"2\": score += 2\n            elif ch == \"3\": score += 1\n            elif ch.upper() in \"FURP\": score -= 1\n        return score\n\n    def top2(self, race_df):\n        df = race_df.copy()\n        df[\"Score\"] = df.apply(self.score_runner, axis=1)\n        df = df.sort_values(\"Score\", ascending=False).reset_index(drop=True)\n        if len(df) >= 2:\n            return df.iloc[0], df.iloc[1]\n        elif len(df) == 1:\n            return df.iloc[0], None\n        else:\n            return None, None\n\nuf = UnityFilter()"
    },
    {
      "cell_type": "code",
      "metadata": {
        "id": "run_all"
      },
      "execution_count": null,
      "outputs": [],
      "source": "# === Step 7: Run all races and show grid ===\nresults = []\nfor i, df in enumerate(race_dfs, start=1):\n    if df.empty:\n        continue\n    top1, top2 = uf.top2(df)\n    if top1 is not None:\n        results.append({\n            \"Race #\": i,\n            \"\ud83e\udd47 1st\": top1[\"name\"],\n            \"Score1\": top1[\"Score\"],\n            \"\ud83e\udd48 2nd\": top2[\"name\"] if top2 is not None else \"\",\n            \"Score2\": top2[\"Score\"] if top2 is not None else \"\"\n        })\n\nresults_df = pd.DataFrame(results)\nresults_df"
    },
    {
      "cell_type": "markdown",
      "metadata": {},
      "source": "---\n### Notes\n- pdfplumber is more reliable for ATR form PDFs than Camelot.\n- Trainer/OR columns are placeholders; can be expanded later.\n- Replace `score_runner` with your full Unity logic when ready."
    }
  ]
}