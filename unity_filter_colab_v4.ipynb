{
  "nbformat": 4,
  "nbformat_minor": 5,
  "metadata": {
    "colab": {
      "provenance": []
    },
    "kernelspec": {
      "name": "python3",
      "display_name": "Python 3"
    },
    "language_info": {
      "name": "python",
      "version": "3.x"
    }
  },
  "cells": [
    {
      "cell_type": "markdown",
      "metadata": {},
      "source": "# \ud83c\udfc7 Unity Filter Colab v4 \u2014 ATR PDF \u2192 Top-2 per Race\n\n**What\u2019s new in v4**\n- Uses `pdfplumber`.\n- Step 2: Friendly file picker for uploading PDF.\n- Step 3+4: Splits races by `(R1)`, `(R2)` headers so each race is separate.\n- Step 5: Only parses runner lines (ignores ATR Verdict, Top Tip, etc).\n- Outputs Top-2 selections for *all races*."
    },
    {
      "cell_type": "code",
      "metadata": {
        "id": "setup"
      },
      "execution_count": null,
      "outputs": [],
      "source": "# === Step 1: Install dependencies ===\n!pip -q install pandas pdfplumber"
    },
    {
      "cell_type": "code",
      "metadata": {
        "id": "upload"
      },
      "execution_count": null,
      "outputs": [],
      "source": "# === Step 2: Upload ATR PDF (file picker) ===\nfrom google.colab import files\n\ndef pick_pdf():\n    print(\"\ud83d\udcc2 Please upload today\u2019s ATR racecard PDF...\")\n    uploaded = files.upload()\n    pdf_path = next(iter(uploaded.keys()))\n    print(\"\u2705 Uploaded:\", pdf_path)\n    return pdf_path\n\npdf_path = pick_pdf()"
    },
    {
      "cell_type": "code",
      "metadata": {
        "id": "split"
      },
      "execution_count": null,
      "outputs": [],
      "source": "# === Step 3+4: Extract races by header markers ===\nimport pdfplumber, re\n\ndef extract_races(path):\n    races = []\n    current = []\n    with pdfplumber.open(path) as pdf:\n        for page in pdf.pages:\n            text = page.extract_text().splitlines()\n            for line in text:\n                if re.match(r\"^\\(R\\d+\\)\", line):  # race header e.g. (R1)\n                    if current:\n                        races.append(current)\n                        current = []\n                current.append(line)\n        if current:\n            races.append(current)\n    return races\n\nraces = extract_races(pdf_path)\nprint(\"\u2705 Found\", len(races), \"races\")\nfor i, r in enumerate(races, 1):\n    print(f\"Race {i}: {len(r)} lines\")"
    },
    {
      "cell_type": "code",
      "metadata": {
        "id": "parse"
      },
      "execution_count": null,
      "outputs": [],
      "source": "# === Step 5: Convert each race to DataFrame ===\nimport pandas as pd\n\ndef parse_race(lines):\n    data = []\n    for line in lines:\n        if not line or not line[0].isdigit():  # only runner lines start with number\n            continue\n        parts = line.split()\n        if len(parts) < 2:\n            continue\n        try:\n            no = parts[0]\n            draw = parts[1] if parts[1].startswith(\"(\") else \"\"\n            form = \"\"\n            i = 2 if draw else 1\n            # optional form string like \"321F\" etc\n            import re\n            if i < len(parts) and re.match(r\"[0-9FURP\\-]+\", parts[i]):\n                form = parts[i]\n                i += 1\n            # collect horse name until digits appear\n            name_parts = []\n            while i < len(parts) and not parts[i].isdigit():\n                name_parts.append(parts[i])\n                i += 1\n            name = \" \".join(name_parts)\n            data.append({\"name\": name, \"form\": form})\n        except:\n            continue\n    return pd.DataFrame(data)\n\nrace_dfs = [parse_race(r) for r in races]\nprint(\"\u2705 Parsed\", len(race_dfs), \"races\")\nfor i, df in enumerate(race_dfs, 1):\n    print(f\"Race {i}: {len(df)} runners\")"
    },
    {
      "cell_type": "code",
      "metadata": {
        "id": "unity_filter"
      },
      "execution_count": null,
      "outputs": [],
      "source": "# === Step 6: Unity Filter Wrapper ===\nclass UnityFilter:\n    def score_runner(self, row):\n        score = 0.0\n        for ch in str(row[\"form\"]):\n            if ch == \"1\": score += 3\n            elif ch == \"2\": score += 2\n            elif ch == \"3\": score += 1\n            elif ch.upper() in \"FURP\": score -= 1\n        return score\n\n    def top2(self, race_df):\n        df = race_df.copy()\n        df[\"Score\"] = df.apply(self.score_runner, axis=1)\n        df = df.sort_values(\"Score\", ascending=False).reset_index(drop=True)\n        if len(df) >= 2:\n            return df.iloc[0], df.iloc[1]\n        elif len(df) == 1:\n            return df.iloc[0], None\n        else:\n            return None, None\n\nuf = UnityFilter()"
    },
    {
      "cell_type": "code",
      "metadata": {
        "id": "run_all"
      },
      "execution_count": null,
      "outputs": [],
      "source": "# === Step 7: Run all races and show grid ===\nresults = []\nfor i, df in enumerate(race_dfs, start=1):\n    if df.empty:\n        continue\n    top1, top2 = uf.top2(df)\n    if top1 is not None:\n        results.append({\n            \"Race #\": i,\n            \"\ud83e\udd47 1st\": top1[\"name\"],\n            \"Score1\": top1[\"Score\"],\n            \"\ud83e\udd48 2nd\": top2[\"name\"] if top2 is not None else \"\",\n            \"Score2\": top2[\"Score\"] if top2 is not None else \"\"\n        })\n\nresults_df = pd.DataFrame(results)\nresults_df"
    },
    {
      "cell_type": "markdown",
      "metadata": {},
      "source": "---\n### Notes\n- v4 reliably detects race headers `(R1)\u2026(R7)` so each race is separated.\n- Only runner lines (starting with numbers) are parsed; ATR Verdict etc. ignored.\n- Replace `score_runner` with your full Unity logic when ready."
    }
  ]
}